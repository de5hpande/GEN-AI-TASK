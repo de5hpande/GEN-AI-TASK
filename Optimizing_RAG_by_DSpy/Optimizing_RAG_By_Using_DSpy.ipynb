{
 "cells": [
  {
   "cell_type": "markdown",
   "metadata": {
    "id": "7hURNqH_y-AB"
   },
   "source": [
    "### Dependencies"
   ]
  },
  {
   "cell_type": "code",
   "execution_count": 2,
   "metadata": {
    "id": "UVyOpNGbeydM"
   },
   "outputs": [],
   "source": [
    "# !pip install git+https://github.com/stanfordnlp/dspy.git\n",
    "# !pip install pymupdf  torch langchain chromadb langchain_huggingface langchain-community"
   ]
  },
  {
   "cell_type": "markdown",
   "metadata": {
    "id": "0SMXNOHvzOcU"
   },
   "source": [
    "### Importing Necessary library"
   ]
  },
  {
   "cell_type": "code",
   "execution_count": 3,
   "metadata": {
    "id": "celnFaiZo-jD"
   },
   "outputs": [],
   "source": [
    "import fitz  # PyMuPDF\n",
    "import torch\n",
    "from langchain.text_splitter import RecursiveCharacterTextSplitter\n",
    "from langchain.vectorstores import Chroma\n",
    "from langchain_huggingface import HuggingFaceEmbeddings\n",
    "from typing import List\n",
    "from google.colab import userdata\n",
    "import os\n",
    "import dspy"
   ]
  },
  {
   "cell_type": "markdown",
   "metadata": {
    "id": "JAHFbOpvzeNq"
   },
   "source": [
    "####  1. Initialize DSPy with Together AI LLM"
   ]
  },
  {
   "cell_type": "code",
   "execution_count": 4,
   "metadata": {
    "id": "EYM92CcipBYz"
   },
   "outputs": [],
   "source": [
    "TOGETHER_API_KEY = userdata.get('TOGETHER_API_KEY')\n",
    "lm = dspy.LM(\n",
    "    \"together_ai/meta-llama/Meta-Llama-3.1-8B-Instruct-Turbo-classifier\",\n",
    "    api_key=TOGETHER_API_KEY\n",
    ")\n",
    "dspy.configure(lm=lm)"
   ]
  },
  {
   "cell_type": "markdown",
   "metadata": {
    "id": "sNlW_IPfznJ8"
   },
   "source": [
    "#### 2. PDF Text Extraction"
   ]
  },
  {
   "cell_type": "code",
   "execution_count": 5,
   "metadata": {
    "id": "KWX0DCHWpTQv"
   },
   "outputs": [],
   "source": [
    "def extract_text_from_pdf(pdf_path: str) -> List[str]:\n",
    "    \"\"\"Extracts text from each page of a PDF.\"\"\"\n",
    "    text_per_page = []\n",
    "    try:\n",
    "        pdf_document = fitz.open(pdf_path)\n",
    "        for page_number in range(pdf_document.page_count):\n",
    "            page = pdf_document.load_page(page_number)\n",
    "            text = page.get_text(\"text\", flags=fitz.TEXTFLAGS_TEXT)\n",
    "            text_per_page.append(text)\n",
    "    except FileNotFoundError:\n",
    "        print(f\"Error: File not found at {pdf_path}\")\n",
    "    return text_per_page"
   ]
  },
  {
   "cell_type": "code",
   "execution_count": 6,
   "metadata": {
    "id": "gEbQ5Li1tyib"
   },
   "outputs": [],
   "source": [
    "docs=extract_text_from_pdf(\"GSTsmartGuide.pdf\")"
   ]
  },
  {
   "cell_type": "markdown",
   "metadata": {
    "id": "C-DpJr7BzuUe"
   },
   "source": [
    "#### 3. LangChain Hugging Face Embeddings"
   ]
  },
  {
   "cell_type": "code",
   "execution_count": 7,
   "metadata": {
    "id": "afq16zfnpcEH"
   },
   "outputs": [],
   "source": [
    "def initialize_embedding_model(model_name=\"all-MiniLM-L6-v2\"):\n",
    "    \"\"\"Initializes the Hugging Face embedding model from LangChain.\"\"\"\n",
    "    embeddings = HuggingFaceEmbeddings(model_name=model_name)\n",
    "    return embeddings"
   ]
  },
  {
   "cell_type": "markdown",
   "metadata": {
    "id": "-JufZ57VzzCd"
   },
   "source": [
    "#### 4. Chunking"
   ]
  },
  {
   "cell_type": "code",
   "execution_count": 8,
   "metadata": {
    "id": "DZv6bIrfp2wJ"
   },
   "outputs": [],
   "source": [
    "def chunk_text(text_per_page: List[str]) -> List[str]:\n",
    "    text_splitter = RecursiveCharacterTextSplitter(\n",
    "        chunk_size=500,  # Tune as needed\n",
    "        chunk_overlap=100,\n",
    "        length_function=len,\n",
    "        is_separator_regex=False,\n",
    "    )\n",
    "    chunks = []\n",
    "    for page_text in text_per_page:\n",
    "        chunks.extend(text_splitter.split_text(page_text))\n",
    "    return chunks"
   ]
  },
  {
   "cell_type": "code",
   "execution_count": 9,
   "metadata": {
    "id": "WsS3hKIGuQMP"
   },
   "outputs": [],
   "source": [
    "chunks=chunk_text(docs)"
   ]
  },
  {
   "cell_type": "code",
   "execution_count": 10,
   "metadata": {
    "colab": {
     "base_uri": "https://localhost:8080/",
     "height": 88
    },
    "id": "f1gBX-FRuWtA",
    "outputId": "306ab47d-af29-40d6-ca65-63b6e2d451f0"
   },
   "outputs": [
    {
     "data": {
      "application/vnd.google.colaboratory.intrinsic+json": {
       "type": "string"
      },
      "text/plain": [
       "'was fragmented with too many obstacles in free movement of goods necessitated \\nby procedural requirement under VAT and CST. \\n5.4 In the constitutional scheme, taxation powers on goods was with Central \\nGovernment but it was limited up to the stage of manufacture and production \\nwhile States have powers to tax sale and purchase of goods. Centre had powers to \\ntax services and States also had powers to tax certain services specified in clause'"
      ]
     },
     "execution_count": 10,
     "metadata": {},
     "output_type": "execute_result"
    }
   ],
   "source": [
    "chunks[100]"
   ]
  },
  {
   "cell_type": "markdown",
   "metadata": {
    "id": "-FxdeaHaz377"
   },
   "source": [
    "#### 5. Chroma Vector Store"
   ]
  },
  {
   "cell_type": "code",
   "execution_count": 11,
   "metadata": {
    "id": "iuk7FXkzp60b"
   },
   "outputs": [],
   "source": [
    "def create_vector_store(text_chunks: List[str], embeddings,persist_directory=\"chroma_db\"):\n",
    "    \"\"\"Creates a Chroma vector store.\"\"\"\n",
    "    vector_store = Chroma.from_texts(\n",
    "        texts=text_chunks,\n",
    "        embedding=embeddings,\n",
    "        persist_directory=persist_directory\n",
    "    )\n",
    "    vector_store.persist()\n",
    "    return vector_store"
   ]
  },
  {
   "cell_type": "code",
   "execution_count": 12,
   "metadata": {
    "colab": {
     "base_uri": "https://localhost:8080/",
     "height": 460,
     "referenced_widgets": [
      "530bdd1db15b4078a71a59050f2c1ddd",
      "ad118571bcf64338879b8e0726e4bcfe",
      "bc98f5f197f94eec89c9e9ef02d1dfc4",
      "3c2f025463c54fefa5785ac5e4575e52",
      "50e95e250e1d40bc93f0cd7c56343088",
      "f84de83b49e942dba21d790c3cf3f664",
      "c4eeeedaad354a8996df8b0475e40c3b",
      "bf916e6db91844979b17cf859868711a",
      "12fe1e3639b145e5b418a432f0940715",
      "a0a8c75cc6c44dd4918caccb9dad9bb2",
      "b256bffc7b5c4f89ba94043090e3d2d0",
      "20a9ba3e0fd447e981cb61b432327831",
      "6b7f6e68c1144d31b7c37e21deb6b969",
      "3c1e540e693e48e9ba4e2daae4dec286",
      "a3064d0b3813457985961c8c5548ca2b",
      "2662bccabb6744bfbf62db8ffbf31093",
      "ef47c571bd9a47a9a5cf0b91f7505b15",
      "fe6e5aa3c69f46ccaaa8f5a4343b1e02",
      "109e5eb49b0e45e8b467c1c8db246113",
      "a3811689ecdb48b6abd25adc7944d65e",
      "62e0c21e2b4b446dadbdbfcf024d7712",
      "237d7bafc35046e583288adbc2918443",
      "6d590310d55643db9961118d5f8d5cdc",
      "dfcf33f07ae344c19a43bfa18712d6d6",
      "c45a81f771bd48c98a74f5accf09e944",
      "48d6c46a7b5541459265a5143a4d937a",
      "ba33ba0cb0e54bd6bdaf710a3db05cfa",
      "3aca01fa4a174e1e8c188a8185ab4865",
      "933d46e380ea42dea6e570f9a808c0aa",
      "91f5318c32474200bd0f564dcfa5d423",
      "994949d323294d46a8a38adf842a9624",
      "c0ee177c95324252a8643c99074b4abe",
      "ce820198d88c40f898269f02dab6978b",
      "8c858609e80d41089eaba131717795c4",
      "320684fbdc214e17a2816a895cdc2daf",
      "50386fb7efd4456fba32d7055625721a",
      "dc21db39db894fc58edf61c1e65007fc",
      "f1942d56fb984cf49f0f22cb72647a91",
      "d4ff665cc8d84bd6b64580fad5d05cbc",
      "1ed0de1df87b49119d18209903666937",
      "1b1f3148f44844658f0fd7e6b8e6b204",
      "68a650fdea72451d86a0ab2e1032ff17",
      "16a399c40590479cac9e334de6dc5924",
      "22d8f207d9ce4b018f08369437f6d7e7",
      "fec4e5c1e0d945edb2a60c0c9b12f9a3",
      "c3ccf9cb09614408a430b52cc4c4c24f",
      "904b32db29664a0b8570c581c4f4cbfb",
      "5d0aa91d47be40a086051bca9cf33683",
      "a439b89954b74c9c82665a3678fe7dfe",
      "ef1367f3ba574fe19ed9e39305d82283",
      "1a6a6b6559db4ec8970d7f0c2b7c791d",
      "b90d3f4693d04eacbf625301de153f85",
      "df5bdcc20bde49878c64adc2564a4dde",
      "f91676eb99a5478b8abd7134bec9aa6d",
      "fd596293c9284b4fb3cfd23e0b81718a",
      "da02e203e47d43a39d7d1aee20745990",
      "74d77a299c07405297b7b7a69f6842f4",
      "5acfc9cfc8e7488abc8e70dacfd82698",
      "ced37b7ce8134321adfe2a0871eb179f",
      "eb5298252f9c4bd9a858298946f8b169",
      "d129be6709bd4788b3d35a6b4e928a04",
      "d3994161b0f0498bbdabdcbe34b22e99",
      "dc26af96336842e69453bfe736cfc69b",
      "118544e1594f413a8176ffc0a3e44fe8",
      "691ab6423a79449c88dd1b48ccad89fe",
      "ca139b2032494810bf67e0ed2fb9934b",
      "b802d8b419334b519140ef92847e07ce",
      "b15f6a053eae4b2f9df1b4dd606f8551",
      "6bd7d8043fcb4320a7a54e703347db6a",
      "67b0176039b24b9680471cfa37864cd9",
      "a42a377ee8f241539e590c907933a0e6",
      "4b2eb42cb5ec4ef6a7bcaacb80d260a5",
      "485a83c8acf941249c1baa675bc2fcfb",
      "23c25369f8ce4d959a86ea7d0f5f0246",
      "00ea6f23ab7d4f27828e36903682c835",
      "a831a0f6b566481896480cfc57aaed0e",
      "c4f5915926974d449f025c55830ad53a",
      "be280c6b1f074338a2476fecc49e8f32",
      "ed7e464c0c3947c6a3f54d9e4bbe8b3c",
      "b6900738f08e4e18860cb298c4217844",
      "4b856375329b476595969d1827d2bd08",
      "5a1d7f6c2e7145a28d9359047933aa78",
      "2fd92d951a93484793628330a2f06b5e",
      "e594269d6ca44df1a2721652fdb4dd3b",
      "76828de8813f42d7b28d0ff46c8fa8e1",
      "6b8d53ebdfc74bf4aac7d8e2b8afd407",
      "ed9d5d81239f4822a3bfc9438b6552d6",
      "bfc12ef68c4141b9bab93d2c9dd2e66f",
      "1bc774c8477d4c8ca5d0216b69330459",
      "a33063bff31341dd889a43ac44abfe95",
      "c1757c1c76aa4a7b880a10e795f09bdd",
      "ab7479407ec341c2be14c48010f90ba2",
      "ec94ba5bda3a4a009350da0164ab9abd",
      "5f95c74a9ab04e7f92262f44e1c1467a",
      "52214049a14847c2a2676c09f17dffea",
      "7841a3d50fb7430fbbc6393843caf196",
      "49c5779465324ba2803399845c47e002",
      "fb054018b7844af0a7ce25a596cd6f7b",
      "1f9810bf3669465188e8d829c37e2195",
      "389f70983022460385f2c79b05f3a1d2",
      "0636cd6e612f475197b5f07262ab1a89",
      "0b6aa770e1c24781b505c46bc9745e8b",
      "72d7ee4885dc47b1b20995617fd92874",
      "6dcd04f696a14737afbddcefd2c1e641",
      "7492ecc686ef4d13a5da4a0f9c313746",
      "844fd926542e422bb89ed987c433b6e4",
      "718e6ebd3e954a22a3572ec6e7dd11ed",
      "322ef4c32fc34c1595490494c7466ec3",
      "a43fac76d2b24fc38df0077e76a0f777",
      "c0e95ee6697243c885a7a67ff709fb6b",
      "66c422bce1f94235a964fb08422571da",
      "7f081fb3f41e49b18aa2957262125044",
      "c78daccab8464e4bb6dc1f2bde5c661d",
      "a611a634224d4844a6e754cb141137d2",
      "16ca2bf4c1e142bbbbc17b7b59d179df",
      "4d49fbaec4c3498382b10e8c4bba526a",
      "53b7c3a70da1446cbc9cd685e060486a",
      "089d5472831b44ee852e763f3786bf0b",
      "333e63607919481da1f2dbc7c74f7f12",
      "ee4d97cdaf1f4fa5802c1be6b7866736",
      "e780f13eeb78473ebd4e92ab68584922"
     ]
    },
    "id": "RdgXqSyIujHD",
    "outputId": "bec42388-eaf6-45fa-fc78-e96e84f481d6"
   },
   "outputs": [
    {
     "data": {
      "application/vnd.jupyter.widget-view+json": {
       "model_id": "530bdd1db15b4078a71a59050f2c1ddd",
       "version_major": 2,
       "version_minor": 0
      },
      "text/plain": [
       "modules.json:   0%|          | 0.00/349 [00:00<?, ?B/s]"
      ]
     },
     "metadata": {},
     "output_type": "display_data"
    },
    {
     "data": {
      "application/vnd.jupyter.widget-view+json": {
       "model_id": "20a9ba3e0fd447e981cb61b432327831",
       "version_major": 2,
       "version_minor": 0
      },
      "text/plain": [
       "config_sentence_transformers.json:   0%|          | 0.00/116 [00:00<?, ?B/s]"
      ]
     },
     "metadata": {},
     "output_type": "display_data"
    },
    {
     "data": {
      "application/vnd.jupyter.widget-view+json": {
       "model_id": "6d590310d55643db9961118d5f8d5cdc",
       "version_major": 2,
       "version_minor": 0
      },
      "text/plain": [
       "README.md:   0%|          | 0.00/10.5k [00:00<?, ?B/s]"
      ]
     },
     "metadata": {},
     "output_type": "display_data"
    },
    {
     "data": {
      "application/vnd.jupyter.widget-view+json": {
       "model_id": "8c858609e80d41089eaba131717795c4",
       "version_major": 2,
       "version_minor": 0
      },
      "text/plain": [
       "sentence_bert_config.json:   0%|          | 0.00/53.0 [00:00<?, ?B/s]"
      ]
     },
     "metadata": {},
     "output_type": "display_data"
    },
    {
     "data": {
      "application/vnd.jupyter.widget-view+json": {
       "model_id": "fec4e5c1e0d945edb2a60c0c9b12f9a3",
       "version_major": 2,
       "version_minor": 0
      },
      "text/plain": [
       "config.json:   0%|          | 0.00/612 [00:00<?, ?B/s]"
      ]
     },
     "metadata": {},
     "output_type": "display_data"
    },
    {
     "name": "stderr",
     "output_type": "stream",
     "text": [
      "Xet Storage is enabled for this repo, but the 'hf_xet' package is not installed. Falling back to regular HTTP download. For better performance, install the package with: `pip install huggingface_hub[hf_xet]` or `pip install hf_xet`\n",
      "WARNING:huggingface_hub.file_download:Xet Storage is enabled for this repo, but the 'hf_xet' package is not installed. Falling back to regular HTTP download. For better performance, install the package with: `pip install huggingface_hub[hf_xet]` or `pip install hf_xet`\n"
     ]
    },
    {
     "data": {
      "application/vnd.jupyter.widget-view+json": {
       "model_id": "da02e203e47d43a39d7d1aee20745990",
       "version_major": 2,
       "version_minor": 0
      },
      "text/plain": [
       "model.safetensors:   0%|          | 0.00/90.9M [00:00<?, ?B/s]"
      ]
     },
     "metadata": {},
     "output_type": "display_data"
    },
    {
     "data": {
      "application/vnd.jupyter.widget-view+json": {
       "model_id": "b802d8b419334b519140ef92847e07ce",
       "version_major": 2,
       "version_minor": 0
      },
      "text/plain": [
       "tokenizer_config.json:   0%|          | 0.00/350 [00:00<?, ?B/s]"
      ]
     },
     "metadata": {},
     "output_type": "display_data"
    },
    {
     "data": {
      "application/vnd.jupyter.widget-view+json": {
       "model_id": "be280c6b1f074338a2476fecc49e8f32",
       "version_major": 2,
       "version_minor": 0
      },
      "text/plain": [
       "vocab.txt:   0%|          | 0.00/232k [00:00<?, ?B/s]"
      ]
     },
     "metadata": {},
     "output_type": "display_data"
    },
    {
     "data": {
      "application/vnd.jupyter.widget-view+json": {
       "model_id": "1bc774c8477d4c8ca5d0216b69330459",
       "version_major": 2,
       "version_minor": 0
      },
      "text/plain": [
       "tokenizer.json:   0%|          | 0.00/466k [00:00<?, ?B/s]"
      ]
     },
     "metadata": {},
     "output_type": "display_data"
    },
    {
     "data": {
      "application/vnd.jupyter.widget-view+json": {
       "model_id": "389f70983022460385f2c79b05f3a1d2",
       "version_major": 2,
       "version_minor": 0
      },
      "text/plain": [
       "special_tokens_map.json:   0%|          | 0.00/112 [00:00<?, ?B/s]"
      ]
     },
     "metadata": {},
     "output_type": "display_data"
    },
    {
     "data": {
      "application/vnd.jupyter.widget-view+json": {
       "model_id": "66c422bce1f94235a964fb08422571da",
       "version_major": 2,
       "version_minor": 0
      },
      "text/plain": [
       "config.json:   0%|          | 0.00/190 [00:00<?, ?B/s]"
      ]
     },
     "metadata": {},
     "output_type": "display_data"
    },
    {
     "name": "stderr",
     "output_type": "stream",
     "text": [
      "<ipython-input-11-1a6c2c08d0b6>:8: LangChainDeprecationWarning: Since Chroma 0.4.x the manual persistence method is no longer supported as docs are automatically persisted.\n",
      "  vector_store.persist()\n"
     ]
    }
   ],
   "source": [
    "vectorstore=create_vector_store(chunks,initialize_embedding_model())"
   ]
  },
  {
   "cell_type": "markdown",
   "metadata": {
    "id": "YCPLEoM1z9dG"
   },
   "source": [
    "#### 6. DSPy Modules for RAG"
   ]
  },
  {
   "cell_type": "code",
   "execution_count": 13,
   "metadata": {
    "id": "D90GFs82qPJT"
   },
   "outputs": [],
   "source": [
    "class GenerateQuery(dspy.Signature):\n",
    "    \"\"\"Generates a search query from a question .\"\"\"\n",
    "    question = dspy.InputField()\n",
    "    query = dspy.OutputField()"
   ]
  },
  {
   "cell_type": "code",
   "execution_count": 14,
   "metadata": {
    "id": "WmlmEGl2qZ_c"
   },
   "outputs": [],
   "source": [
    "class RetrieveContext(dspy.Module):\n",
    "    def __init__(self, vector_store, k: int = 3):\n",
    "        super().__init__()\n",
    "        self.generate_query = dspy.Predict(GenerateQuery)\n",
    "        self.vector_store = vector_store\n",
    "        self.k = k\n",
    "\n",
    "    def forward(self, question):\n",
    "        query = self.generate_query(question=question).query\n",
    "        results = self.vector_store.similarity_search(query, k=self.k)\n",
    "        context = \"\\n\".join([doc.page_content for doc in results])\n",
    "        return context"
   ]
  },
  {
   "cell_type": "code",
   "execution_count": 15,
   "metadata": {
    "id": "sEpshJZYxJYj"
   },
   "outputs": [],
   "source": [
    "Retriever=RetrieveContext(vectorstore)"
   ]
  },
  {
   "cell_type": "code",
   "execution_count": 16,
   "metadata": {
    "colab": {
     "base_uri": "https://localhost:8080/",
     "height": 159
    },
    "id": "Qe3Ky6yRxUKQ",
    "outputId": "d3f87974-b7fc-4dfb-868b-e1553aa28420"
   },
   "outputs": [
    {
     "data": {
      "application/vnd.google.colaboratory.intrinsic+json": {
       "type": "string"
      },
      "text/plain": [
       "'1116 \\n12. Clarification relating to export of services-\\ncondition (v) of section 2(6) of the IGST \\nAct, 2017. \\n161/17/2021-GST, \\ndated 20-9-2021 \\n1141 \\n13. Procedure relating to sanction, post-audit \\nand review of refund claims-Reg. \\nInstruction No. \\n03/2022-GST \\ndated 14-6-2022 \\n1144 \\n14. Clarification on refund related Issues \\n(Inverted duty structure) \\n181/13/2022-GST \\ndated 10-11-2022 \\n1149 \\n15. Prescribes the manner of filing an applica-\\ntion for refund by unregistered persons.\\nAs per Section 54 of the CGST Act and read with Rule 89(1) of the CGST \\nRules, provides refund of IGST in respect of export of goods or services on \\npayment of tax by a registered person or in respect of supplies to a Special \\nEconomic Zone unit or a SEZ developer, the application for refund shall be filed \\nby the— \\n \\n(e) supplier of goods after such goods have been admitted in full in the SEZ \\nfor authorized operations, as endorsed by the specified officer of the \\nZone;\\n94/13/2019-GST, \\ndated 28-3-2019 \\n1111 \\n11. Fully electronic refund process through \\nFORM \\nGST \\nRFD-01 \\nand \\nsingle \\ndisbursement. \\n125/44/2019-GST, \\ndated 18-11-2019 \\n1116 \\n12. Clarification \\nrelating \\nto \\nexport \\nof \\nservices-condition (v) of section 2(6) of \\nthe IGST Act 2017. \\n161/17/2021-GST, \\ndated 20-9-2021 \\n1141'"
      ]
     },
     "execution_count": 16,
     "metadata": {},
     "output_type": "execute_result"
    }
   ],
   "source": [
    "Retriever.forward(\"What is the procedure for refund of IGST on services?\")"
   ]
  },
  {
   "cell_type": "markdown",
   "metadata": {
    "id": "qhdekil80_rO"
   },
   "source": [
    "#### RAG"
   ]
  },
  {
   "cell_type": "code",
   "execution_count": 17,
   "metadata": {
    "id": "GlGXg-DPqjB2"
   },
   "outputs": [],
   "source": [
    "class GenerateAnswer(dspy.Signature):\n",
    "    \"\"\"Answers a question about GST given relevant context.\"\"\"\n",
    "    context = dspy.InputField()\n",
    "    question = dspy.InputField()\n",
    "    answer = dspy.OutputField()"
   ]
  },
  {
   "cell_type": "code",
   "execution_count": 18,
   "metadata": {
    "id": "drCE4IIPqm92"
   },
   "outputs": [],
   "source": [
    "class RAG(dspy.Module):\n",
    "    def __init__(self, vector_store, k: int = 3,optimized_predictor=None):\n",
    "        super().__init__()\n",
    "        self.retrieve_context = RetrieveContext(vector_store, k=k)\n",
    "        self.generate_answer = dspy.Predict(GenerateAnswer)\n",
    "\n",
    "    def forward(self, question):\n",
    "        context = self.retrieve_context(question=question)\n",
    "        answer = self.generate_answer(context=context, question=question).answer\n",
    "        return answer"
   ]
  },
  {
   "cell_type": "code",
   "execution_count": 19,
   "metadata": {
    "colab": {
     "base_uri": "https://localhost:8080/",
     "height": 124
    },
    "id": "5jxkuNjExrk-",
    "outputId": "0b47c8ec-4ae1-4a2e-9450-6b98ce6af79c"
   },
   "outputs": [
    {
     "data": {
      "application/vnd.google.colaboratory.intrinsic+json": {
       "type": "string"
      },
      "text/plain": [
       "'The procedure for refund of IGST on services is as follows:\\n\\n1. The supplier of services must have exported the services.\\n2. The supplier must have paid the IGST on the services.\\n3. The supplier must have obtained the necessary documents, such as the export invoice and the bill of entry.\\n4. The supplier must have filed an application for refund in FORM GST RFD-01.\\n5. The application must be accompanied by the necessary supporting documents, such as the export invoice and the bill of entry.\\n6. The application must be filed within the time limit specified in the GST Rules.\\n7. The refund will be processed and disbursed electronically.\\n\\nNote: The above points are based on the given context and may not be a comprehensive list of the procedures for refund of IGST on services.'"
      ]
     },
     "execution_count": 19,
     "metadata": {},
     "output_type": "execute_result"
    }
   ],
   "source": [
    "rag_system = RAG(vectorstore)\n",
    "rag_system.forward(\"What is the procedure for refund of IGST on services give me pointwise?\")"
   ]
  },
  {
   "cell_type": "markdown",
   "metadata": {
    "id": "QmxkBDl-QRyf"
   },
   "source": [
    "## Optimizing RAG"
   ]
  },
  {
   "cell_type": "code",
   "execution_count": 22,
   "metadata": {
    "id": "0QQrkRyVN4dx"
   },
   "outputs": [],
   "source": [
    "from dspy.teleprompt import BootstrapFewShot\n",
    "from dspy.evaluate import Evaluate"
   ]
  },
  {
   "cell_type": "code",
   "execution_count": 29,
   "metadata": {
    "id": "TZa7cGvkNyTv"
   },
   "outputs": [],
   "source": [
    "from dspy import Example\n",
    "\n",
    "examples = [\n",
    "    Example(\n",
    "        question=\"What is the GST and why is it considered the biggest tax reform in India?\",\n",
    "        answer=\"GST is a destination-based tax on the supply of goods and services, unifying multiple indirect taxes under a single regime. It is considered the biggest tax reform since independence due to its comprehensive and integrated approach.\"\n",
    "    ).with_inputs(\"question\"),\n",
    "\n",
    "    Example(\n",
    "        question=\"What does Article 246A introduced by the 101st Amendment state?\",\n",
    "        answer=\"Article 246A gives concurrent powers to the Union and States to make laws with respect to goods and services tax.\"\n",
    "    ).with_inputs(\"question\"),\n",
    "\n",
    "    Example(\n",
    "        question=\"What are the functions of the GST Council under Article 279A?\",\n",
    "        answer=\"The GST Council recommends GST rates, exemptions, thresholds, model laws, and decides when petroleum products will be brought under GST.\"\n",
    "    ).with_inputs(\"question\"),\n",
    "\n",
    "    Example(\n",
    "        question=\"Why were petroleum products and alcohol excluded from GST?\",\n",
    "        answer=\"Alcohol was excluded due to its revenue significance for States. Petroleum products were temporarily excluded, pending recommendation by the GST Council for inclusion.\"\n",
    "    ).with_inputs(\"question\"),\n",
    "\n",
    "    Example(\n",
    "        question=\"What were the key reasons for introducing GST in India?\",\n",
    "        answer=\"GST was introduced to eliminate the cascading effect of taxes, integrate Central and State taxes, and create a unified national market.\"\n",
    "    ).with_inputs(\"question\"),\n",
    "\n",
    "    Example(\n",
    "        question=\"What are the threshold limits for GST registration?\",\n",
    "        answer=\"For goods, ₹40 lakhs in most States and ₹20 lakhs in special category States. For services, ₹20 lakhs and ₹10 lakhs in special category States.\"\n",
    "    ).with_inputs(\"question\"),\n",
    "\n",
    "    Example(\n",
    "        question=\"What is the Reverse Charge Mechanism (RCM) under GST?\",\n",
    "        answer=\"Under RCM, the recipient pays the tax instead of the supplier. It applies to certain notified goods/services and supplies from unregistered persons.\"\n",
    "    ).with_inputs(\"question\"),\n",
    "\n",
    "    Example(\n",
    "        question=\"What structural challenges did India face in implementing GST?\",\n",
    "        answer=\"Challenges included reconciling State vs. Central powers, destination vs. origin-based taxation, rate harmonization, and ensuring revenue protection for States.\"\n",
    "    ).with_inputs(\"question\"),\n",
    "\n",
    "    Example(\n",
    "        question=\"What does Article 269A of the Constitution provide for?\",\n",
    "        answer=\"Article 269A provides for GST on inter-State supplies to be levied and collected by the Centre and apportioned between the Centre and States.\"\n",
    "    ).with_inputs(\"question\"),\n",
    "\n",
    "    Example(\n",
    "        question=\"What is the QRMP Scheme under GST?\",\n",
    "        answer=\"The QRMP Scheme allows taxpayers with turnover up to ₹5 crores to file returns quarterly while paying taxes monthly.\"\n",
    "    ).with_inputs(\"question\")\n",
    "]\n"
   ]
  },
  {
   "cell_type": "code",
   "execution_count": 30,
   "metadata": {
    "colab": {
     "base_uri": "https://localhost:8080/"
    },
    "id": "Hczxsvx1WYAn",
    "outputId": "d13dcfa6-28e5-469b-e631-881dd902af02"
   },
   "outputs": [
    {
     "name": "stderr",
     "output_type": "stream",
     "text": [
      "WARNING:root:Failed to deep copy attribute 'vector_store' of RetrieveContext, falling back to shallow copy or reference copy.\n",
      "WARNING:root:Failed to deep copy attribute 'vector_store' of RetrieveContext, falling back to shallow copy or reference copy.\n",
      "WARNING:root:Failed to deep copy attribute 'vector_store' of RetrieveContext, falling back to shallow copy or reference copy.\n",
      "WARNING:root:Failed to deep copy attribute 'vector_store' of RetrieveContext, falling back to shallow copy or reference copy.\n",
      " 40%|████      | 4/10 [00:06<00:09,  1.53s/it]"
     ]
    },
    {
     "name": "stdout",
     "output_type": "stream",
     "text": [
      "Bootstrapped 4 full traces after 4 examples for up to 1 rounds, amounting to 4 attempts.\n"
     ]
    },
    {
     "name": "stderr",
     "output_type": "stream",
     "text": [
      "\n"
     ]
    }
   ],
   "source": [
    "teleprompter = BootstrapFewShot()\n",
    "compiled_rag = teleprompter.compile(RAG(vectorstore), trainset=examples)\n"
   ]
  },
  {
   "cell_type": "code",
   "execution_count": 31,
   "metadata": {
    "id": "pWil2HbaZB_x"
   },
   "outputs": [],
   "source": [
    "output = compiled_rag(question=\"What is the procedure for refund of IGST on services give me pointwise?\")"
   ]
  },
  {
   "cell_type": "code",
   "execution_count": 32,
   "metadata": {
    "colab": {
     "base_uri": "https://localhost:8080/",
     "height": 124
    },
    "id": "5gqRhwxzWX9s",
    "outputId": "ade4eddc-706b-4ba2-96cb-f166d2077541"
   },
   "outputs": [
    {
     "data": {
      "application/vnd.google.colaboratory.intrinsic+json": {
       "type": "string"
      },
      "text/plain": [
       "'The procedure for refund of IGST on services is as follows:\\n\\n1. The application for refund shall be filed by the supplier of goods or services.\\n2. The goods or services must have been exported or supplied to a Special Economic Zone (SEZ) unit or a SEZ developer.\\n3. The supplier must have paid the IGST on the export of goods or services.\\n4. The application for refund shall be filed in FORM GST RFD-01.\\n5. The application shall be accompanied by the required documents, including the export invoice, bill of export, and other relevant documents.\\n6. The application shall be filed electronically through the GST portal.\\n7. The refund shall be processed and disbursed electronically through the GST portal.\\n8. The refund shall be credited to the bank account of the supplier.'"
      ]
     },
     "execution_count": 32,
     "metadata": {},
     "output_type": "execute_result"
    }
   ],
   "source": [
    "output"
   ]
  },
  {
   "cell_type": "markdown",
   "metadata": {},
   "source": [
    "# Ignore This Code"
   ]
  },
  {
   "cell_type": "code",
   "execution_count": 2,
   "metadata": {},
   "outputs": [],
   "source": [
    "import nbformat\n",
    "\n",
    "def clean_widgets_metadata(notebook_path):\n",
    "    nb = nbformat.read(notebook_path, as_version=nbformat.NO_CONVERT)\n",
    "    if 'widgets' in nb.metadata:\n",
    "        del nb.metadata['widgets']\n",
    "    nbformat.write(nb, notebook_path)\n",
    "\n",
    "clean_widgets_metadata(\"Optimizing_RAG_By_Using_DSpy.ipynb\")\n"
   ]
  }
 ],
 "metadata": {
  "colab": {
   "provenance": []
  },
  "kernelspec": {
   "display_name": "base",
   "language": "python",
   "name": "python3"
  },
  "language_info": {
   "codemirror_mode": {
    "name": "ipython",
    "version": 3
   },
   "file_extension": ".py",
   "mimetype": "text/x-python",
   "name": "python",
   "nbconvert_exporter": "python",
   "pygments_lexer": "ipython3",
   "version": "3.12.4"
  }
 },
 "nbformat": 4,
 "nbformat_minor": 0
}
