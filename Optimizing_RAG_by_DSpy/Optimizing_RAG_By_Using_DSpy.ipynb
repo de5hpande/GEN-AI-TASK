{
  "nbformat": 4,
  "nbformat_minor": 0,
  "metadata": {
    "colab": {
      "provenance": []
    },
    "kernelspec": {
      "name": "python3",
      "display_name": "Python 3"
    },
    "language_info": {
      "name": "python"
    }
  },
  "cells": [
    {
      "cell_type": "markdown",
      "source": [
        "### Dependencies"
      ],
      "metadata": {
        "id": "7hURNqH_y-AB"
      }
    },
    {
      "cell_type": "code",
      "execution_count": 12,
      "metadata": {
        "id": "UVyOpNGbeydM"
      },
      "outputs": [],
      "source": [
        "# !pip install git+https://github.com/stanfordnlp/dspy.git\n",
        "# !pip install pymupdf transformers torch langchain faiss-cpu chromadb langchain_huggingface langchain-community"
      ]
    },
    {
      "cell_type": "markdown",
      "source": [
        "### Importing Necessary library"
      ],
      "metadata": {
        "id": "0SMXNOHvzOcU"
      }
    },
    {
      "cell_type": "code",
      "source": [
        "import fitz  # PyMuPDF\n",
        "import torch\n",
        "from langchain.text_splitter import RecursiveCharacterTextSplitter\n",
        "from langchain.vectorstores import Chroma\n",
        "from langchain_huggingface import HuggingFaceEmbeddings\n",
        "from typing import List\n",
        "from google.colab import userdata\n",
        "import os\n",
        "import dspy"
      ],
      "metadata": {
        "id": "celnFaiZo-jD"
      },
      "execution_count": 122,
      "outputs": []
    },
    {
      "cell_type": "markdown",
      "source": [
        "####  1. Initialize DSPy with Together AI LLM"
      ],
      "metadata": {
        "id": "JAHFbOpvzeNq"
      }
    },
    {
      "cell_type": "code",
      "source": [
        "TOGETHER_API_KEY = userdata.get('TOGETHER_API_KEY')\n",
        "lm = dspy.LM(\n",
        "    \"together_ai/meta-llama/Meta-Llama-3.1-8B-Instruct-Turbo-classifier\",\n",
        "    api_key=TOGETHER_API_KEY\n",
        ")\n",
        "dspy.configure(lm=lm)"
      ],
      "metadata": {
        "id": "EYM92CcipBYz"
      },
      "execution_count": 57,
      "outputs": []
    },
    {
      "cell_type": "markdown",
      "source": [
        "#### 2. PDF Text Extraction"
      ],
      "metadata": {
        "id": "sNlW_IPfznJ8"
      }
    },
    {
      "cell_type": "code",
      "source": [
        "def extract_text_from_pdf(pdf_path: str) -> List[str]:\n",
        "    \"\"\"Extracts text from each page of a PDF.\"\"\"\n",
        "    text_per_page = []\n",
        "    try:\n",
        "        pdf_document = fitz.open(pdf_path)\n",
        "        for page_number in range(pdf_document.page_count):\n",
        "            page = pdf_document.load_page(page_number)\n",
        "            text = page.get_text(\"text\", flags=fitz.TEXTFLAGS_TEXT)\n",
        "            text_per_page.append(text)\n",
        "    except FileNotFoundError:\n",
        "        print(f\"Error: File not found at {pdf_path}\")\n",
        "    return text_per_page"
      ],
      "metadata": {
        "id": "KWX0DCHWpTQv"
      },
      "execution_count": 15,
      "outputs": []
    },
    {
      "cell_type": "code",
      "source": [
        "docs=extract_text_from_pdf(\"GSTsmartGuide.pdf\")"
      ],
      "metadata": {
        "id": "gEbQ5Li1tyib"
      },
      "execution_count": 29,
      "outputs": []
    },
    {
      "cell_type": "markdown",
      "source": [
        "#### 3. LangChain Hugging Face Embeddings"
      ],
      "metadata": {
        "id": "C-DpJr7BzuUe"
      }
    },
    {
      "cell_type": "code",
      "source": [
        "def initialize_embedding_model(model_name=\"all-MiniLM-L6-v2\"):\n",
        "    \"\"\"Initializes the Hugging Face embedding model from LangChain.\"\"\"\n",
        "    embeddings = HuggingFaceEmbeddings(model_name=model_name)\n",
        "    return embeddings"
      ],
      "metadata": {
        "id": "afq16zfnpcEH"
      },
      "execution_count": 35,
      "outputs": []
    },
    {
      "cell_type": "markdown",
      "source": [
        "#### 4. Chunking"
      ],
      "metadata": {
        "id": "-JufZ57VzzCd"
      }
    },
    {
      "cell_type": "code",
      "source": [
        "def chunk_text(text_per_page: List[str]) -> List[str]:\n",
        "    text_splitter = RecursiveCharacterTextSplitter(\n",
        "        chunk_size=500,  # Tune as needed\n",
        "        chunk_overlap=100,\n",
        "        length_function=len,\n",
        "        is_separator_regex=False,\n",
        "    )\n",
        "    chunks = []\n",
        "    for page_text in text_per_page:\n",
        "        chunks.extend(text_splitter.split_text(page_text))\n",
        "    return chunks"
      ],
      "metadata": {
        "id": "DZv6bIrfp2wJ"
      },
      "execution_count": 36,
      "outputs": []
    },
    {
      "cell_type": "code",
      "source": [
        "chunks=chunk_text(docs)"
      ],
      "metadata": {
        "id": "WsS3hKIGuQMP"
      },
      "execution_count": 37,
      "outputs": []
    },
    {
      "cell_type": "code",
      "source": [
        "chunks[100]"
      ],
      "metadata": {
        "colab": {
          "base_uri": "https://localhost:8080/",
          "height": 88
        },
        "id": "f1gBX-FRuWtA",
        "outputId": "493fd348-6cc3-40ae-a4bf-3f61adc36788"
      },
      "execution_count": 38,
      "outputs": [
        {
          "output_type": "execute_result",
          "data": {
            "text/plain": [
              "'was fragmented with too many obstacles in free movement of goods necessitated \\nby procedural requirement under VAT and CST. \\n5.4 In the constitutional scheme, taxation powers on goods was with Central \\nGovernment but it was limited up to the stage of manufacture and production \\nwhile States have powers to tax sale and purchase of goods. Centre had powers to \\ntax services and States also had powers to tax certain services specified in clause'"
            ],
            "application/vnd.google.colaboratory.intrinsic+json": {
              "type": "string"
            }
          },
          "metadata": {},
          "execution_count": 38
        }
      ]
    },
    {
      "cell_type": "markdown",
      "source": [
        "#### 5. Chroma Vector Store"
      ],
      "metadata": {
        "id": "-FxdeaHaz377"
      }
    },
    {
      "cell_type": "code",
      "source": [
        "def create_vector_store(text_chunks: List[str], embeddings,persist_directory=\"chroma_db\"):\n",
        "    \"\"\"Creates a Chroma vector store.\"\"\"\n",
        "    vector_store = Chroma.from_texts(\n",
        "        texts=text_chunks,\n",
        "        embedding=embeddings,\n",
        "        persist_directory=persist_directory\n",
        "    )\n",
        "    vector_store.persist()\n",
        "    return vector_store"
      ],
      "metadata": {
        "id": "iuk7FXkzp60b"
      },
      "execution_count": 40,
      "outputs": []
    },
    {
      "cell_type": "code",
      "source": [
        "vectorstore=create_vector_store(chunks,initialize_embedding_model())"
      ],
      "metadata": {
        "id": "RdgXqSyIujHD"
      },
      "execution_count": 41,
      "outputs": []
    },
    {
      "cell_type": "markdown",
      "source": [
        "#### 6. DSPy Modules for RAG"
      ],
      "metadata": {
        "id": "YCPLEoM1z9dG"
      }
    },
    {
      "cell_type": "code",
      "source": [
        "class GenerateQuery(dspy.Signature):\n",
        "    \"\"\"Generates a search query from a question .\"\"\"\n",
        "    question = dspy.InputField()\n",
        "    query = dspy.OutputField()"
      ],
      "metadata": {
        "id": "D90GFs82qPJT"
      },
      "execution_count": 44,
      "outputs": []
    },
    {
      "cell_type": "code",
      "source": [
        "class RetrieveContext(dspy.Module):\n",
        "    def __init__(self, vector_store, k: int = 3):\n",
        "        super().__init__()\n",
        "        self.generate_query = dspy.Predict(GenerateQuery)\n",
        "        self.vector_store = vector_store\n",
        "        self.k = k\n",
        "\n",
        "    def forward(self, question):\n",
        "        query = self.generate_query(question=question).query\n",
        "        results = self.vector_store.similarity_search(query, k=self.k)\n",
        "        context = \"\\n\".join([doc.page_content for doc in results])\n",
        "        return context"
      ],
      "metadata": {
        "id": "WmlmEGl2qZ_c"
      },
      "execution_count": 45,
      "outputs": []
    },
    {
      "cell_type": "code",
      "source": [
        "Retriever=RetrieveContext(vectorstore)"
      ],
      "metadata": {
        "id": "sEpshJZYxJYj"
      },
      "execution_count": 58,
      "outputs": []
    },
    {
      "cell_type": "code",
      "source": [
        "Retriever.forward(\"What is the procedure for refund of IGST on services?\")"
      ],
      "metadata": {
        "colab": {
          "base_uri": "https://localhost:8080/",
          "height": 212
        },
        "id": "Qe3Ky6yRxUKQ",
        "outputId": "761d9035-feb0-4d02-c672-5ccefcecb6c5"
      },
      "execution_count": 59,
      "outputs": [
        {
          "output_type": "execute_result",
          "data": {
            "text/plain": [
              "'1116 \\n12. Clarification relating to export of services-\\ncondition (v) of section 2(6) of the IGST \\nAct, 2017. \\n161/17/2021-GST, \\ndated 20-9-2021 \\n1141 \\n13. Procedure relating to sanction, post-audit \\nand review of refund claims-Reg. \\nInstruction No. \\n03/2022-GST \\ndated 14-6-2022 \\n1144 \\n14. Clarification on refund related Issues \\n(Inverted duty structure) \\n181/13/2022-GST \\ndated 10-11-2022 \\n1149 \\n15. Prescribes the manner of filing an applica-\\ntion for refund by unregistered persons.\\n1116 \\n12. Clarification relating to export of services-\\ncondition (v) of section 2(6) of the IGST \\nAct, 2017. \\n161/17/2021-GST, \\ndated 20-9-2021 \\n1141 \\n13. Procedure relating to sanction, post-audit \\nand review of refund claims-Reg. \\nInstruction No. \\n03/2022-GST \\ndated 14-6-2022 \\n1144 \\n14. Clarification on refund related Issues \\n(Inverted duty structure) \\n181/13/2022-GST \\ndated 10-11-2022 \\n1149 \\n15. Prescribes the manner of filing an applica-\\ntion for refund by unregistered persons.\\nChap. 48 \\nRefund of IGST on Supplies to SEZ Unit/Developer of SEZ \\n931 \\nProvided that in cases where the amount of refund is completely adjusted \\nagainst any outstanding demand under the Act or under any existing law, an \\norder giving details of the adjustment may be issued in FORM GST RFD-07.  \\n(2) Where the proper officer is satisfied, for reasons to be recorded in \\nwriting, that the whole or any part of the amount claimed as refund is not'"
            ],
            "application/vnd.google.colaboratory.intrinsic+json": {
              "type": "string"
            }
          },
          "metadata": {},
          "execution_count": 59
        }
      ]
    },
    {
      "cell_type": "markdown",
      "source": [
        "#### RAG"
      ],
      "metadata": {
        "id": "qhdekil80_rO"
      }
    },
    {
      "cell_type": "code",
      "source": [
        "class GenerateAnswer(dspy.Signature):\n",
        "    \"\"\"Answers a question about GST given relevant context.\"\"\"\n",
        "    context = dspy.InputField()\n",
        "    question = dspy.InputField()\n",
        "    answer = dspy.OutputField()"
      ],
      "metadata": {
        "id": "GlGXg-DPqjB2"
      },
      "execution_count": 49,
      "outputs": []
    },
    {
      "cell_type": "code",
      "source": [
        "class RAG(dspy.Module):\n",
        "    def __init__(self, vector_store, k: int = 3,optimized_predictor=None):\n",
        "        super().__init__()\n",
        "        self.retrieve_context = RetrieveContext(vector_store, k=k)\n",
        "        self.generate_answer = dspy.Predict(GenerateAnswer)\n",
        "\n",
        "    def forward(self, question):\n",
        "        context = self.retrieve_context(question=question)\n",
        "        answer = self.generate_answer(context=context, question=question).answer\n",
        "        return answer"
      ],
      "metadata": {
        "id": "drCE4IIPqm92"
      },
      "execution_count": 137,
      "outputs": []
    },
    {
      "cell_type": "code",
      "source": [
        "rag_system = RAG(vectorstore)\n",
        "rag_system.forward(\"What is the procedure for refund of IGST on services give me pointwise?\")"
      ],
      "metadata": {
        "colab": {
          "base_uri": "https://localhost:8080/",
          "height": 194
        },
        "id": "5jxkuNjExrk-",
        "outputId": "c9c20ae9-0e71-4d57-ec62-6bcf0a11e315"
      },
      "execution_count": 131,
      "outputs": [
        {
          "output_type": "execute_result",
          "data": {
            "text/plain": [
              "'Based on the given context, the procedure for refund of IGST on services can be summarized as follows:\\n\\n1. **Eligibility**: The exporter of services is eligible for refund of IGST under the condition (v) of section 2(6) of the IGST Act, 2017.\\n2. **Refund Application**: The exporter needs to file an application for refund in FORM GST RFD-01.\\n3. **Supporting Documents**: The application should be accompanied by supporting documents, such as:\\n\\t* Invoice and bill of entry\\n\\t* Certificate of origin\\n\\t* Proof of export\\n\\t* Bank certificate\\n4. **Post-Audit and Review**: The refund application will be subject to post-audit and review as per the procedure laid down in Instruction No. 03/2022-GST dated 14-6-2022.\\n5. **Refund Sanction**: The refund will be sanctioned as per the procedure laid down in Instruction No. 03/2022-GST dated 14-6-2022.\\n6. **Refund Disbursement**: The refund will be disbursed electronically through the fully electronic refund process as per the procedure laid down in Instruction No. 125/44/2019-GST dated 18-11-2019.\\n\\nPlease note that the above procedure is based on the given context and may not be a comprehensive or up-to-date procedure for refund of IGST on services.'"
            ],
            "application/vnd.google.colaboratory.intrinsic+json": {
              "type": "string"
            }
          },
          "metadata": {},
          "execution_count": 131
        }
      ]
    },
    {
      "cell_type": "markdown",
      "source": [
        "## Optimizing RAG"
      ],
      "metadata": {
        "id": "QmxkBDl-QRyf"
      }
    }
  ]
}