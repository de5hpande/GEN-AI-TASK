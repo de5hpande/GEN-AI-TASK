{
 "cells": [
  {
   "cell_type": "markdown",
   "metadata": {
    "id": "Qn-zJDkPAe6V"
   },
   "source": [
    "### Dependencies"
   ]
  },
  {
   "cell_type": "code",
   "execution_count": 16,
   "metadata": {
    "id": "Z5rZ-1q9Ae6X"
   },
   "outputs": [],
   "source": [
    "# !pip install pypdf langchain langchain_core langchain_community langchain_huggingface langchain_groq sentence_transformers transformers langchain_google_genai chromadb pymupdf"
   ]
  },
  {
   "cell_type": "markdown",
   "metadata": {
    "id": "bPMIZfuPAe6Y"
   },
   "source": [
    "### Loading PDF"
   ]
  },
  {
   "cell_type": "code",
   "execution_count": 2,
   "metadata": {
    "id": "UySAPzsGUkcP"
   },
   "outputs": [],
   "source": [
    "from langchain_community.document_loaders import PyMuPDFLoader\n",
    "\n",
    "loader = PyMuPDFLoader(\"GSTsmartGuide.pdf\")"
   ]
  },
  {
   "cell_type": "code",
   "execution_count": 3,
   "metadata": {
    "id": "lJ-zamJnUmQ6"
   },
   "outputs": [],
   "source": [
    "docs = loader.load()"
   ]
  },
  {
   "cell_type": "code",
   "execution_count": 4,
   "metadata": {
    "id": "OuKiymNcAe6b"
   },
   "outputs": [],
   "source": [
    "from langchain.text_splitter import RecursiveCharacterTextSplitter\n",
    "\n",
    "# Assume docs is a list of Document objects\n",
    "text_splitter = RecursiveCharacterTextSplitter(\n",
    "    chunk_size=1000,\n",
    "    chunk_overlap=250\n",
    ")\n",
    "\n",
    "# This handles splitting across all docs and gives you Document objects\n",
    "fixed_chunks = text_splitter.split_documents(docs)"
   ]
  },
  {
   "cell_type": "code",
   "execution_count": 9,
   "metadata": {
    "colab": {
     "base_uri": "https://localhost:8080/"
    },
    "id": "IqqpZxZYeF2a",
    "outputId": "22156e67-ffa4-48fb-ccac-486319042c4d"
   },
   "outputs": [
    {
     "data": {
      "text/plain": [
       "Document(metadata={'producer': 'Microsoft® Word 2013', 'creator': 'Microsoft® Word 2013', 'creationdate': '2024-02-27T11:53:51+05:30', 'source': 'GSTsmartGuide.pdf', 'file_path': 'GSTsmartGuide.pdf', 'total_pages': 1321, 'format': 'PDF 1.6', 'title': 'CHAPTER 1', 'author': 'Abha', 'subject': '', 'keywords': '', 'moddate': '2024-02-27T13:03:27+05:30', 'trapped': '', 'modDate': \"D:20240227130327+05'30'\", 'creationDate': \"D:20240227115351+05'30'\", 'page': 34}, page_content='18 \\nGST Smart Guide \\nChap. 1 \\n \\n25.14 Export: \\n25.15 E-Wallet Scheme shall be introduced for exporters from 1-4-2020 and \\ntill then relief for exporters shall be given in form of broadly existing practice. \\n25.16 Supply of services to Nepal and Bhutan shall be exempted from GST \\neven if payment has not been received in foreign convertible currency - such \\nsuppliers shall be eligible for input tax credit. \\n25.17 Supply of services to qualify as exports, even if payment is received in \\nIndian Rupees, where permitted by the RBI. \\n25.18 Rate of Interest: \\n25.19 Rate of interest on delayed payments and delayed refund has been \\nrecommended. \\n25.20 MSME: \\n25.21 A Group of Ministers has been constituted to look into the issues being \\nfaced by MSMEs and to provide solutions for the same. \\n25.22 Revenue Mobilization: \\n25.23 A Group of Ministers has been constituted to study the revenue trend, \\nincluding analyzing the reasons for structural patterns affecting the revenue')"
      ]
     },
     "execution_count": 9,
     "metadata": {},
     "output_type": "execute_result"
    }
   ],
   "source": [
    "fixed_chunks[100]"
   ]
  },
  {
   "cell_type": "markdown",
   "metadata": {
    "id": "54UMEAevITrZ"
   },
   "source": [
    "### I am using HuggingFace Embeddings"
   ]
  },
  {
   "cell_type": "code",
   "execution_count": 5,
   "metadata": {
    "colab": {
     "base_uri": "https://localhost:8080/",
     "height": 424,
     "referenced_widgets": [
      "230904be90224fddbef653afdb51926b",
      "d545e3b703a24f8ea5d669feb32b9329",
      "b8d7bbb4a275460399237f11332bc2e8",
      "ec45d3c4dfd549e2b8b49fe72cd3681d",
      "d49383804ee44a8682875651de3224f0",
      "8d5972573be14dc5bb8061b0248e084c",
      "0acd2aae2f954a6fa7ad0cbc0561f5e7",
      "1498a8912b504bf699d6df9f676069f4",
      "69091b46cb684485ab0553fc9b8354de",
      "37b83ec289f147edbbd1d1ab62572fc3",
      "64af22b5578944be92a9fb053722b280",
      "6bf4bb6201dc4c1bb99fcbe634d813df",
      "64bc398d829f4f1c94a135fe109e3681",
      "0a64d01d899b4291b0a9041c319272e1",
      "15ab8d4dfad54945ba33ff7d60cfce32",
      "43af0cf1be314cd28e89a0f63b3fe8c7",
      "80daa2202dfe4221aa02ac2d9e116188",
      "9fc2ab5a6a9f4729ab84bd13465d312a",
      "58bf465bd9d242c38c021f6bb7b43b87",
      "49da086dfdc24dbfbf33874339281203",
      "bcbd8de8149143389c8114a9ddda04c4",
      "559835662d8844feabd585aa7bf17698",
      "db99d545ffd1494f89350edc293eea75",
      "99b029da124441d98c6f6f73d0a754db",
      "ea1dea2fdd9a47f0b3968408b1893784",
      "b4a46205fb0c410b94a0ea92512855a9",
      "0b2d265af68c4b389787bd1f307cccef",
      "ec5df4dc0e414b8691fe1f019836e2bf",
      "9004be999a6b4c0da37756be69197e4a",
      "6bf2616dda4c4d6788727b590f63ec6f",
      "f2708e64fde74bc3a1f725709ae8c4db",
      "f5c26df2ee334dac90ff405cc3d67bcd",
      "c5a307b7b423493cbd887d6396bafe8c",
      "2d8dbc127e9a495a913bd6d580bb3a12",
      "000e338062c94e298c8cc8af611d8a01",
      "e09b07afa2be4d67954d2521f0cc7d48",
      "229e0cad2d004cd890dbc4fa6fced66a",
      "e9fa5d9d462e4bd189e3fcdb8c8cac1e",
      "d4d1d1fafb69408fbd78d2c203339efa",
      "bb4f6029e6ad4b15b024dd9e1f99ad6a",
      "fceb6f4cb4ed4f2f90fa8b0f7e136b59",
      "69df84b4c949466884ec9b41fb2d2e07",
      "dc2ed795852e457a9accf3fe04b62e54",
      "535dff49b05b4af79f25409fdc00bc40",
      "ada15f127d24424795003dcb01a903b6",
      "ff846477230c4bb8a0f284366f0c6bce",
      "22847c7a150241989bf2c67a83a46f6a",
      "c6b6773799b44c9bb9c8ddada33ef829",
      "86556e1860e44bd4b6a0bdb9e745cf38",
      "69c012e7ebca41c79bde3f17ef5b954a",
      "eab12ea60e4844878cff06317300d0a5",
      "985c73d933d54626bc0c5456ee0b044f",
      "1c7f7ef99845429f98a17ebf57458210",
      "34f526344bcd4a9da60d0eedd2d7ff04",
      "1385897b328b4602aa611237f3ef758e",
      "3995a1dd44374c7c941af1db47dc7e15",
      "8c9a51c1412b4acfad9d179d6b5db615",
      "b844d74498a5457dae5711fb482f3c22",
      "728e205738d14bff8eb48fce4b0901d0",
      "cfd7e8c3d3484e1e81c14fe141be804d",
      "9d40d6c597064a9bbc5337deca3bb71d",
      "02949c61894b4bc291cc27645f6036f0",
      "a8148e3fb47b4164b084c9f72c70783e",
      "050753fcdc9b4b89a7d23ae85e90d1fa",
      "881c9e0c4c8842f698f9cbe3ce9c1275",
      "701b9c4155db440b951444ec81d86cab",
      "bd8df3322c624ae3a80fe37cc8248d2c",
      "5a8b42d389b246329fc2f83eea11c234",
      "1e8ab7603e1f42b2af25538c1c14500e",
      "2492fb32938a4a8189f293e63c90bd85",
      "ea2072eea54145f5a3300d4b0318e794",
      "dbad40546b6c4ac3b494fab6ef619075",
      "dc756589783647aba03de861fabe3853",
      "7a396bef781b4903b95ccc064564f822",
      "c7eda44a90cd49ec8858fe587fcb90e0",
      "fc28b086eec54fed91345ec116be9bf4",
      "e97d3ecb9b214a39b3493a155f112571",
      "1313fa80166f44b5b1058a4b3660f7e5",
      "199a50c2e1c54d6ea8b1479414141aba",
      "0bafabbf56d6482db8d61610e2560204",
      "48242d3c672e4aea9ccd63f9dc8b2056",
      "390795f4c9c346cd866e29f7f7c6246a",
      "193dfa012d1446ad959ffe5fa5c691c5",
      "f88fe644c3394f98a8aaed6052540860",
      "a271ffde5a244a779aa12cdd6347b50a",
      "ea3495c478d24f23930221cf8b4d490d",
      "5e1fac30d1864a3bbe457fb51ebb6430",
      "1eb15ff73f4840c3b935ebba93933627",
      "d12b5a1848f34171863d621237ae6967",
      "4442c82c49684d83ba4a018d9e6dbb39",
      "4a7fabc23c804e8e9daf38399b8bd306",
      "c6f45de80ba74ae2b35e0b58b18dec54",
      "411611cbb8b747a7ac4df03e68aa7609",
      "0561a3313f6648b99f8de4ce9bff7bd2",
      "4bf76a7104b541ae95e47a9566572917",
      "0641d17473164098aae263215112a5c9",
      "59b0bd24757a484b83de767c3dcbb1db",
      "d743b62afb7847c3a2bac6598544e9e9",
      "421ec742fc8741efa7d233ecb39ddac3",
      "e31f5c6ca0b2493cb5db05c52b066e88",
      "ce239b725ccf4d6f8f385e035c37e714",
      "d78a2f0d7ee740348394fe69cfc3b7f5",
      "331f9c5c97cc4d8983431427509413d3",
      "b6c1ddb8594947619ce9c1f52a6fb6d1",
      "2716ba5252c74322bfebab6ce3fe8195",
      "03105c0537bf442498bd99696d606844",
      "464c42362d6b4bbd828042eda4b35c9d",
      "5dba9fb48ba749b0ae9f31b13fe13da0",
      "2cf705b5d70c4415862efe9fe767ad30",
      "7328b37cbd324600b414d9b9e7556fec",
      "9b149423024a444687a0778ec2b3f46a",
      "ffee73b3597a4ac996034f291878cbac",
      "351b72bc47fb409d9f17daf678528e15",
      "6bd60ee292c84ed9916797bdba68ed74",
      "6402f562e61e4386bcf84239679fc7bd",
      "08c4212e615548f39531fea2dea4f310",
      "6abc1bfe63b84cb68d7db701185fdb99",
      "1282de4bda93476eae73c09869225d51",
      "209448b485584cd1b9a0da6d8eb39f33",
      "e46ca52fc7434d5db4c1c92017d58e83",
      "01c082cfca914284bba39ab03f143aab"
     ]
    },
    "id": "wPzH6j-mIQCK",
    "outputId": "0be33365-b9ab-4e32-f494-358efa654ca9"
   },
   "outputs": [
    {
     "data": {
      "application/vnd.jupyter.widget-view+json": {
       "model_id": "230904be90224fddbef653afdb51926b",
       "version_major": 2,
       "version_minor": 0
      },
      "text/plain": [
       "modules.json:   0%|          | 0.00/349 [00:00<?, ?B/s]"
      ]
     },
     "metadata": {},
     "output_type": "display_data"
    },
    {
     "data": {
      "application/vnd.jupyter.widget-view+json": {
       "model_id": "6bf4bb6201dc4c1bb99fcbe634d813df",
       "version_major": 2,
       "version_minor": 0
      },
      "text/plain": [
       "config_sentence_transformers.json:   0%|          | 0.00/116 [00:00<?, ?B/s]"
      ]
     },
     "metadata": {},
     "output_type": "display_data"
    },
    {
     "data": {
      "application/vnd.jupyter.widget-view+json": {
       "model_id": "db99d545ffd1494f89350edc293eea75",
       "version_major": 2,
       "version_minor": 0
      },
      "text/plain": [
       "README.md:   0%|          | 0.00/10.5k [00:00<?, ?B/s]"
      ]
     },
     "metadata": {},
     "output_type": "display_data"
    },
    {
     "data": {
      "application/vnd.jupyter.widget-view+json": {
       "model_id": "2d8dbc127e9a495a913bd6d580bb3a12",
       "version_major": 2,
       "version_minor": 0
      },
      "text/plain": [
       "sentence_bert_config.json:   0%|          | 0.00/53.0 [00:00<?, ?B/s]"
      ]
     },
     "metadata": {},
     "output_type": "display_data"
    },
    {
     "data": {
      "application/vnd.jupyter.widget-view+json": {
       "model_id": "ada15f127d24424795003dcb01a903b6",
       "version_major": 2,
       "version_minor": 0
      },
      "text/plain": [
       "config.json:   0%|          | 0.00/612 [00:00<?, ?B/s]"
      ]
     },
     "metadata": {},
     "output_type": "display_data"
    },
    {
     "name": "stderr",
     "output_type": "stream",
     "text": [
      "Xet Storage is enabled for this repo, but the 'hf_xet' package is not installed. Falling back to regular HTTP download. For better performance, install the package with: `pip install huggingface_hub[hf_xet]` or `pip install hf_xet`\n",
      "WARNING:huggingface_hub.file_download:Xet Storage is enabled for this repo, but the 'hf_xet' package is not installed. Falling back to regular HTTP download. For better performance, install the package with: `pip install huggingface_hub[hf_xet]` or `pip install hf_xet`\n"
     ]
    },
    {
     "data": {
      "application/vnd.jupyter.widget-view+json": {
       "model_id": "3995a1dd44374c7c941af1db47dc7e15",
       "version_major": 2,
       "version_minor": 0
      },
      "text/plain": [
       "model.safetensors:   0%|          | 0.00/90.9M [00:00<?, ?B/s]"
      ]
     },
     "metadata": {},
     "output_type": "display_data"
    },
    {
     "data": {
      "application/vnd.jupyter.widget-view+json": {
       "model_id": "bd8df3322c624ae3a80fe37cc8248d2c",
       "version_major": 2,
       "version_minor": 0
      },
      "text/plain": [
       "tokenizer_config.json:   0%|          | 0.00/350 [00:00<?, ?B/s]"
      ]
     },
     "metadata": {},
     "output_type": "display_data"
    },
    {
     "data": {
      "application/vnd.jupyter.widget-view+json": {
       "model_id": "1313fa80166f44b5b1058a4b3660f7e5",
       "version_major": 2,
       "version_minor": 0
      },
      "text/plain": [
       "vocab.txt:   0%|          | 0.00/232k [00:00<?, ?B/s]"
      ]
     },
     "metadata": {},
     "output_type": "display_data"
    },
    {
     "data": {
      "application/vnd.jupyter.widget-view+json": {
       "model_id": "d12b5a1848f34171863d621237ae6967",
       "version_major": 2,
       "version_minor": 0
      },
      "text/plain": [
       "tokenizer.json:   0%|          | 0.00/466k [00:00<?, ?B/s]"
      ]
     },
     "metadata": {},
     "output_type": "display_data"
    },
    {
     "data": {
      "application/vnd.jupyter.widget-view+json": {
       "model_id": "e31f5c6ca0b2493cb5db05c52b066e88",
       "version_major": 2,
       "version_minor": 0
      },
      "text/plain": [
       "special_tokens_map.json:   0%|          | 0.00/112 [00:00<?, ?B/s]"
      ]
     },
     "metadata": {},
     "output_type": "display_data"
    },
    {
     "data": {
      "application/vnd.jupyter.widget-view+json": {
       "model_id": "9b149423024a444687a0778ec2b3f46a",
       "version_major": 2,
       "version_minor": 0
      },
      "text/plain": [
       "config.json:   0%|          | 0.00/190 [00:00<?, ?B/s]"
      ]
     },
     "metadata": {},
     "output_type": "display_data"
    }
   ],
   "source": [
    "from langchain_huggingface import HuggingFaceEmbeddings\n",
    "huggingface_embeddings=HuggingFaceEmbeddings(model_name=\"all-MiniLM-L6-v2\")"
   ]
  },
  {
   "cell_type": "markdown",
   "metadata": {
    "id": "eulGEAm9b9f6"
   },
   "source": [
    "### Storing vectors in chromadb"
   ]
  },
  {
   "cell_type": "code",
   "execution_count": 8,
   "metadata": {
    "id": "DkLrOpzLImN2"
   },
   "outputs": [],
   "source": [
    "from langchain_community.vectorstores import Chroma\n",
    "vectorstore=Chroma.from_documents(\n",
    "    documents=fixed_chunks,\n",
    "    collection_name=\"rag\",\n",
    "    embedding=huggingface_embeddings\n",
    ")"
   ]
  },
  {
   "cell_type": "markdown",
   "metadata": {
    "id": "Wg8m_nQWb9f7"
   },
   "source": [
    "### Using Groq LLM"
   ]
  },
  {
   "cell_type": "code",
   "execution_count": 10,
   "metadata": {
    "id": "Np-gbOGfJYPH"
   },
   "outputs": [],
   "source": [
    "from google.colab import userdata\n",
    "api_key = userdata.get('GROQ_API_KEY')\n",
    "\n",
    "from langchain_groq import ChatGroq\n",
    "import os\n",
    "llm = ChatGroq(\n",
    "    model_name=\"Gemma2-9b-It\",\n",
    "    api_key=api_key\n",
    ")\n"
   ]
  },
  {
   "cell_type": "code",
   "execution_count": 11,
   "metadata": {
    "id": "9sPQ_9fFJ3uV"
   },
   "outputs": [],
   "source": [
    "from langchain.prompts import PromptTemplate\n",
    "\n",
    "prompt_template = PromptTemplate(\n",
    "    input_variables=[\"context\", \"question\"],\n",
    "    template=\"\"\"\n",
    "You are a professional legal and tax assistant. Use the following context extracted from a GST reference guide to answer the user’s question as accurately and completely as possible.\n",
    "\n",
    "If the answer is not found in the context, say “The document does not contain this information.”\n",
    "\n",
    "-----------------------\n",
    "Context:\n",
    "{context}\n",
    "-----------------------\n",
    "\n",
    "Question: {question}\n",
    "\n",
    "Answer:\"\"\"\n",
    "\n",
    "\n",
    ")\n"
   ]
  },
  {
   "cell_type": "code",
   "execution_count": 12,
   "metadata": {
    "id": "9fG9JHulJ6VN"
   },
   "outputs": [],
   "source": [
    "retriever=vectorstore.as_retriever()"
   ]
  },
  {
   "cell_type": "code",
   "execution_count": 13,
   "metadata": {
    "id": "Fr4_G6-eJ8X6"
   },
   "outputs": [],
   "source": [
    "from langchain.chains import RetrievalQA\n",
    "\n",
    "qa_chain = RetrievalQA.from_chain_type(\n",
    "    llm=llm,  # your Groq LLM instance\n",
    "    retriever=retriever,\n",
    "    chain_type=\"stuff\",\n",
    "    chain_type_kwargs={\"prompt\": prompt_template}\n",
    ")"
   ]
  },
  {
   "cell_type": "code",
   "execution_count": 14,
   "metadata": {
    "colab": {
     "base_uri": "https://localhost:8080/"
    },
    "id": "7xqtaQQUJ-UN",
    "outputId": "bf4c322e-f0d6-4383-85ed-54f44bd381b3"
   },
   "outputs": [
    {
     "name": "stderr",
     "output_type": "stream",
     "text": [
      "<ipython-input-14-b440ad154156>:2: LangChainDeprecationWarning: The method `Chain.run` was deprecated in langchain 0.1.0 and will be removed in 1.0. Use :meth:`~invoke` instead.\n",
      "  result = qa_chain.run(query)\n"
     ]
    },
    {
     "name": "stdout",
     "output_type": "stream",
     "text": [
      "There can be three situations:\n",
      "\n",
      "* **Situation:** Persons who have been granted provisional registration and who opt for composition levy (Intimation is filed under Rule 3(1) in FORM GST CMP-01)\n",
      "   **Effective date of composition levy:** 1st July, 2017. \n",
      "\n",
      "* **Situation:** Persons opting for composition levy at the time of making application for new registration in the same registration application itself (The intimation under Rule 3(2) in FORM GST REG-01)\n",
      "   **Effective date of composition levy:** Effective date of registration; Intimation shall be considered only after the grant of registration and his option to pay tax under Section 10 shall be effective from the effective date of registration. \n",
      "\n",
      "\n",
      " \n",
      "\n"
     ]
    }
   ],
   "source": [
    "query = ''' What is the effective date of composition levy?  '''\n",
    "result = qa_chain.run(query)\n",
    "\n",
    "print(result)"
   ]
  },
  {
   "cell_type": "code",
   "execution_count": 15,
   "metadata": {
    "colab": {
     "base_uri": "https://localhost:8080/"
    },
    "id": "xCjjZRFdhBGV",
    "outputId": "6ea61f59-d546-497c-faa1-c35700d8d4c3"
   },
   "outputs": [
    {
     "name": "stdout",
     "output_type": "stream",
     "text": [
      "No.  A person having unit(s) in a Special Economic Zone as well as outside the SEZ in a State, shall make a separate application for registration for SEZ unit(s) as a business vertical distinct from his other units located outside the Special Economic Zone in that State. \n",
      "\n"
     ]
    }
   ],
   "source": [
    "query = ''' I have a unit in the DTA and another in the SEZ; can I take a\n",
    "common registration?'''\n",
    "result = qa_chain.run(query)\n",
    "\n",
    "print(result)"
   ]
  },
  {
   "cell_type": "markdown",
   "metadata": {},
   "source": [
    "## Ignore this code"
   ]
  },
  {
   "cell_type": "code",
   "execution_count": null,
   "metadata": {},
   "outputs": [
    {
     "ename": "FileNotFoundError",
     "evalue": "[Errno 2] No such file or directory: 'SimpleDA_RAG.ipynb'",
     "output_type": "error",
     "traceback": [
      "\u001b[1;31m---------------------------------------------------------------------------\u001b[0m",
      "\u001b[1;31mAttributeError\u001b[0m                            Traceback (most recent call last)",
      "File \u001b[1;32mc:\\Users\\Pavilion\\anaconda3\\Lib\\site-packages\\nbformat\\__init__.py:166\u001b[0m, in \u001b[0;36mread\u001b[1;34m(fp, as_version, capture_validation_error, **kwargs)\u001b[0m\n\u001b[0;32m    165\u001b[0m \u001b[38;5;28;01mtry\u001b[39;00m:\n\u001b[1;32m--> 166\u001b[0m     buf \u001b[38;5;241m=\u001b[39m fp\u001b[38;5;241m.\u001b[39mread()\n\u001b[0;32m    167\u001b[0m \u001b[38;5;28;01mexcept\u001b[39;00m \u001b[38;5;167;01mAttributeError\u001b[39;00m:\n",
      "\u001b[1;31mAttributeError\u001b[0m: 'str' object has no attribute 'read'",
      "\nDuring handling of the above exception, another exception occurred:\n",
      "\u001b[1;31mFileNotFoundError\u001b[0m                         Traceback (most recent call last)",
      "Cell \u001b[1;32mIn[2], line 9\u001b[0m\n\u001b[0;32m      6\u001b[0m         \u001b[38;5;28;01mdel\u001b[39;00m nb\u001b[38;5;241m.\u001b[39mmetadata[\u001b[38;5;124m'\u001b[39m\u001b[38;5;124mwidgets\u001b[39m\u001b[38;5;124m'\u001b[39m]\n\u001b[0;32m      7\u001b[0m     nbformat\u001b[38;5;241m.\u001b[39mwrite(nb, notebook_path)\n\u001b[1;32m----> 9\u001b[0m clean_widgets_metadata(\u001b[38;5;124m\"\u001b[39m\u001b[38;5;124mSimpleDA_RAG.ipynb\u001b[39m\u001b[38;5;124m\"\u001b[39m)\n",
      "Cell \u001b[1;32mIn[2], line 4\u001b[0m, in \u001b[0;36mclean_widgets_metadata\u001b[1;34m(notebook_path)\u001b[0m\n\u001b[0;32m      3\u001b[0m \u001b[38;5;28;01mdef\u001b[39;00m \u001b[38;5;21mclean_widgets_metadata\u001b[39m(notebook_path):\n\u001b[1;32m----> 4\u001b[0m     nb \u001b[38;5;241m=\u001b[39m nbformat\u001b[38;5;241m.\u001b[39mread(notebook_path, as_version\u001b[38;5;241m=\u001b[39mnbformat\u001b[38;5;241m.\u001b[39mNO_CONVERT)\n\u001b[0;32m      5\u001b[0m     \u001b[38;5;28;01mif\u001b[39;00m \u001b[38;5;124m'\u001b[39m\u001b[38;5;124mwidgets\u001b[39m\u001b[38;5;124m'\u001b[39m \u001b[38;5;129;01min\u001b[39;00m nb\u001b[38;5;241m.\u001b[39mmetadata:\n\u001b[0;32m      6\u001b[0m         \u001b[38;5;28;01mdel\u001b[39;00m nb\u001b[38;5;241m.\u001b[39mmetadata[\u001b[38;5;124m'\u001b[39m\u001b[38;5;124mwidgets\u001b[39m\u001b[38;5;124m'\u001b[39m]\n",
      "File \u001b[1;32mc:\\Users\\Pavilion\\anaconda3\\Lib\\site-packages\\nbformat\\__init__.py:168\u001b[0m, in \u001b[0;36mread\u001b[1;34m(fp, as_version, capture_validation_error, **kwargs)\u001b[0m\n\u001b[0;32m    166\u001b[0m     buf \u001b[38;5;241m=\u001b[39m fp\u001b[38;5;241m.\u001b[39mread()\n\u001b[0;32m    167\u001b[0m \u001b[38;5;28;01mexcept\u001b[39;00m \u001b[38;5;167;01mAttributeError\u001b[39;00m:\n\u001b[1;32m--> 168\u001b[0m     \u001b[38;5;28;01mwith\u001b[39;00m \u001b[38;5;28mopen\u001b[39m(fp, encoding\u001b[38;5;241m=\u001b[39m\u001b[38;5;124m\"\u001b[39m\u001b[38;5;124mutf-8\u001b[39m\u001b[38;5;124m\"\u001b[39m) \u001b[38;5;28;01mas\u001b[39;00m f:\n\u001b[0;32m    169\u001b[0m         \u001b[38;5;28;01mreturn\u001b[39;00m reads(f\u001b[38;5;241m.\u001b[39mread(), as_version, capture_validation_error, \u001b[38;5;241m*\u001b[39m\u001b[38;5;241m*\u001b[39mkwargs)\n\u001b[0;32m    171\u001b[0m \u001b[38;5;28;01mreturn\u001b[39;00m reads(buf, as_version, capture_validation_error, \u001b[38;5;241m*\u001b[39m\u001b[38;5;241m*\u001b[39mkwargs)\n",
      "\u001b[1;31mFileNotFoundError\u001b[0m: [Errno 2] No such file or directory: 'SimpleDA_RAG.ipynb'"
     ]
    }
   ],
   "source": [
    "import nbformat\n",
    "\n",
    "def clean_widgets_metadata(notebook_path):\n",
    "    nb = nbformat.read(notebook_path, as_version=nbformat.NO_CONVERT)\n",
    "    if 'widgets' in nb.metadata:\n",
    "        del nb.metadata['widgets']\n",
    "    nbformat.write(nb, notebook_path)\n",
    "\n",
    "clean_widgets_metadata(\"SimpleQA_RAG.ipynb\")\n"
   ]
  }
 ],
 "metadata": {
  "colab": {
   "provenance": []
  },
  "kernelspec": {
   "display_name": "base",
   "language": "python",
   "name": "python3"
  },
  "language_info": {
   "codemirror_mode": {
    "name": "ipython",
    "version": 3
   },
   "file_extension": ".py",
   "mimetype": "text/x-python",
   "name": "python",
   "nbconvert_exporter": "python",
   "pygments_lexer": "ipython3",
   "version": "3.12.4"
  }
 },
 "nbformat": 4,
 "nbformat_minor": 0
}
